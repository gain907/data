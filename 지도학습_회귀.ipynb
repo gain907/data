{
  "nbformat": 4,
  "nbformat_minor": 0,
  "metadata": {
    "colab": {
      "provenance": []
    },
    "kernelspec": {
      "name": "python3",
      "display_name": "Python 3"
    },
    "language_info": {
      "name": "python"
    }
  },
  "cells": [
    {
      "cell_type": "markdown",
      "source": [
        "PART 02 파이썬 분석\n",
        "\n",
        "> CHAPTER 03 제2유형: 데이터 분석\n",
        "> >SECTION 03 지도학습 - 회귀(예측)\n",
        "> > >**01 단순 선형 회귀분석을 이용한 예측 문제 해결**"
      ],
      "metadata": {
        "id": "YIygBH1cG1oh"
      }
    },
    {
      "cell_type": "code",
      "execution_count": null,
      "metadata": {
        "id": "RhDWTKgFG0H0"
      },
      "outputs": [],
      "source": [
        "import numpy as np        # 넘파이 패키지 임포트\n",
        "import pandas as pd       # 판다스 패키지 임포트\n",
        "import sklearn            # 싸이킷런 패키지 임포트\n",
        "import matplotlib.pyplot as plt # 맷플롯립 패키지 임포트\n",
        "\n",
        "# 선형회귀모델을 위한 패키지 임포트\n",
        "from sklearn.linear_model import LinearRegression\n",
        "# 학습 및 테스트 데이터셋 분리를 위한 패키지 임포트\n",
        "from sklearn.model_selection import train_test_split"
      ]
    },
    {
      "cell_type": "code",
      "source": [
        "# 깃허브에 있는 csv 파일을 읽어와서 데이터프레임 df로 넣는다.\n",
        "df = pd.read_csv(\"https://raw.githubusercontent.com/plotly/datasets/master/auto-mpg.csv\")"
      ],
      "metadata": {
        "id": "73TAUWC2HJZf"
      },
      "execution_count": null,
      "outputs": []
    },
    {
      "cell_type": "code",
      "source": [
        "# 종속변수 mpg와 다른 변수들 간의 상관관계 분석\n"
      ],
      "metadata": {
        "id": "D--Zu_QDHRpi"
      },
      "execution_count": null,
      "outputs": []
    },
    {
      "cell_type": "code",
      "source": [
        "# 결측값이 있는 행전체 제거"
      ],
      "metadata": {
        "id": "1XIpQQtZHlWm"
      },
      "execution_count": null,
      "outputs": []
    },
    {
      "cell_type": "code",
      "source": [
        "# 분석 데이터셋 준비 : weight-mpg 분석"
      ],
      "metadata": {
        "id": "PstUce8aHoa4"
      },
      "execution_count": null,
      "outputs": []
    },
    {
      "cell_type": "code",
      "source": [
        "# 분석 데이터셋 분할(8:2)"
      ],
      "metadata": {
        "id": "TtsjiN-sHtSN"
      },
      "execution_count": null,
      "outputs": []
    },
    {
      "cell_type": "code",
      "source": [
        "# LinearRegression 객체 생성"
      ],
      "metadata": {
        "id": "GSmKwlRZHx1R"
      },
      "execution_count": null,
      "outputs": []
    },
    {
      "cell_type": "code",
      "source": [
        "# 회귀식의 기울기와 y절편 출력"
      ],
      "metadata": {
        "id": "_lPdbh_gJSMo"
      },
      "execution_count": null,
      "outputs": []
    },
    {
      "cell_type": "code",
      "source": [
        "# 예측 수행"
      ],
      "metadata": {
        "id": "wHwinQY6JYB9"
      },
      "execution_count": null,
      "outputs": []
    },
    {
      "cell_type": "code",
      "source": [
        "# 모델 성능 평가"
      ],
      "metadata": {
        "id": "r7-5xpBpJZl-"
      },
      "execution_count": null,
      "outputs": []
    },
    {
      "cell_type": "code",
      "source": [
        "# 학습이 완료된 학습 데이터셋으로 예측 수행\n",
        "\n",
        "# 모델 성능 평가"
      ],
      "metadata": {
        "id": "xiPFiP3LJbff"
      },
      "execution_count": null,
      "outputs": []
    },
    {
      "cell_type": "code",
      "source": [
        "# 추가작업 해보기"
      ],
      "metadata": {
        "id": "afGCBBKCJg5f"
      },
      "execution_count": null,
      "outputs": []
    },
    {
      "cell_type": "code",
      "source": [
        "# 변수들 간의 상관관계 분석"
      ],
      "metadata": {
        "id": "dXCk5KPBJ4Wq"
      },
      "execution_count": null,
      "outputs": []
    },
    {
      "cell_type": "markdown",
      "source": [
        ">>>**02 다중 선형 회귀분석을 이용한 예측 문제 해결**"
      ],
      "metadata": {
        "id": "iSiqriz7KAJe"
      }
    },
    {
      "cell_type": "code",
      "source": [
        "import numpy as np        # 넘파이 패키지 임포트\n",
        "import pandas as pd       # 판다스 패키지 임포트\n",
        "import sklearn            # 싸이킷런 패키지 임포트\n",
        "import matplotlib.pyplot as plt    # 맷플롯립 패키지 임포트\n",
        "\n",
        "# 선형 회귀 모델을 위한 패키지 임포트\n",
        "from sklearn.linear_model import LinearRegression\n",
        "# 학습 및 테스트 데이터셋 분리를 위한 패키지 임포트\n",
        "from sklearn.model_selection import train_test_split"
      ],
      "metadata": {
        "id": "6bZIE355KFgc"
      },
      "execution_count": null,
      "outputs": []
    },
    {
      "cell_type": "code",
      "source": [
        "# 깃허브에 있는 csv 파일을 읽어와서 데이터프레임 df로 넣는다.\n",
        "df = pd.read_csv(\"https://raw.githubusercontent.com/ageron/handson-ml/master/datasets/housing/housing.csv\")"
      ],
      "metadata": {
        "id": "GlYUnCklNQwK"
      },
      "execution_count": null,
      "outputs": []
    },
    {
      "cell_type": "code",
      "source": [
        "# 결측값이 있는 행전체 제거\n",
        "\n",
        "# 범주형 값 분석에서 제외\n"
      ],
      "metadata": {
        "id": "jyno6fBfNZTP"
      },
      "execution_count": null,
      "outputs": []
    },
    {
      "cell_type": "code",
      "source": [
        "# 변수들 간의 상관관계 분석\n"
      ],
      "metadata": {
        "id": "kCYklbgtNg6-"
      },
      "execution_count": null,
      "outputs": []
    },
    {
      "cell_type": "code",
      "source": [
        "# 분석 데이터셋 준비\n",
        "# median_house_value를 제외한 나머지를 독립변수로 함\n",
        "\n",
        "# 분석 데이터셋 분할(7:3)"
      ],
      "metadata": {
        "id": "_R6CdsDUNkua"
      },
      "execution_count": null,
      "outputs": []
    },
    {
      "cell_type": "code",
      "source": [
        "# LinearRegression 객체 생성"
      ],
      "metadata": {
        "id": "N8gRV-6TNxDR"
      },
      "execution_count": null,
      "outputs": []
    },
    {
      "cell_type": "code",
      "source": [
        "# 회귀식의 기울기와 y절편 출력"
      ],
      "metadata": {
        "id": "T6JynCWzN0PN"
      },
      "execution_count": null,
      "outputs": []
    },
    {
      "cell_type": "code",
      "source": [
        "# 학습이 완료된 lr객체에서 테스트 데이터셋으로 예측 수행"
      ],
      "metadata": {
        "id": "SrKPz-ZSN5Ys"
      },
      "execution_count": null,
      "outputs": []
    },
    {
      "cell_type": "code",
      "source": [
        "# 모델 성능 평가 – 테스트 데이터셋"
      ],
      "metadata": {
        "colab": {
          "base_uri": "https://localhost:8080/"
        },
        "id": "UFbVKJJhN6-1",
        "outputId": "c72a368e-9a2e-4dd8-a252-0565f727929a"
      },
      "execution_count": null,
      "outputs": [
        {
          "output_type": "stream",
          "name": "stdout",
          "text": [
            "0.644513029108233\n"
          ]
        }
      ]
    },
    {
      "cell_type": "code",
      "source": [
        "# 학습이 완료된 lr객체에서 학습 데이터셋으로 예측 수행\n",
        "\n",
        "# 모델 성능 평가 – 학습 데이터셋"
      ],
      "metadata": {
        "id": "o4ermNuTN9pB"
      },
      "execution_count": null,
      "outputs": []
    },
    {
      "cell_type": "markdown",
      "source": [
        ">>>**03 의사결정나무를 이용한 예측 문제 해결**"
      ],
      "metadata": {
        "id": "__Hd6GvSOAVT"
      }
    },
    {
      "cell_type": "code",
      "source": [
        "import numpy as np      # 넘파이 패키지 임포트\n",
        "import pandas as pd     # 판다스 패키지 임포트\n",
        "import sklearn          # 싸이킷런 패키지 임포트\n",
        "import matplotlib.pyplot as plt     # 맷플롯립 패키지 임포트\n",
        "\n",
        "# 의사결정나무 모델을 위한 패키지 임포트\n",
        "from sklearn.tree import DecisionTreeRegressor\n",
        "# 학습 및 테스트 데이터셋 분리를 위한 패키지 임포트\n",
        "from sklearn.model_selection import train_test_split"
      ],
      "metadata": {
        "id": "_zihYikdOEI7"
      },
      "execution_count": null,
      "outputs": []
    },
    {
      "cell_type": "code",
      "source": [
        "# 깃허브에 있는 csv 파일을 읽어와서 데이터프레임 df로 넣는다.\n",
        "df = pd.read_csv(\"https://raw.githubusercontent.com/ageron/handson-ml/master/datasets/housing/housing.csv\")"
      ],
      "metadata": {
        "id": "xK-VP0-4OK0N"
      },
      "execution_count": null,
      "outputs": []
    },
    {
      "cell_type": "code",
      "source": [
        "# DecisionTreeRegressor 객체 생성"
      ],
      "metadata": {
        "id": "OWhQZRnOOoXt"
      },
      "execution_count": null,
      "outputs": []
    },
    {
      "cell_type": "code",
      "source": [
        "# 학습이 완료된 dtr객체에서 테스트 데이터셋으로 예측 수행"
      ],
      "metadata": {
        "id": "bTqZEa3XOr7i"
      },
      "execution_count": null,
      "outputs": []
    },
    {
      "cell_type": "code",
      "source": [
        "# 모델 성능 평가 – 테스트 데이터셋\n"
      ],
      "metadata": {
        "id": "W_apNuvfOwag"
      },
      "execution_count": null,
      "outputs": []
    },
    {
      "cell_type": "code",
      "source": [
        "# 학습이 완료된 dtr객체에서 학습 데이터셋으로 예측 수행\n",
        "\n",
        "# 모델 성능 평가 – 학습 데이터셋"
      ],
      "metadata": {
        "id": "6eOTl5EBO22_"
      },
      "execution_count": null,
      "outputs": []
    },
    {
      "cell_type": "markdown",
      "source": [
        ">>>**04 랜덤 포레스트를 이용한 예측 문제 해결**"
      ],
      "metadata": {
        "id": "hH0OxCMzO7Pa"
      }
    },
    {
      "cell_type": "code",
      "source": [
        "import numpy as np        # 넘파이 패키지 임포트\n",
        "import pandas as pd       # 판다스 패키지 임포트\n",
        "import sklearn            # 싸이킷런 패키지 임포트\n",
        "import matplotlib.pyplot as plt    # 맷플롯립 패키지 임포트\n",
        "\n",
        "# 랜덤 포레스트 모델을 위한 패키지 임포트\n",
        "from sklearn.ensemble import RandomForestRegressor\n",
        "# 학습 및 테스트 데이터셋 분리를 위한 패키지 임포트\n",
        "from sklearn.model_selection import train_test_split"
      ],
      "metadata": {
        "id": "2sqtqBidO6iQ"
      },
      "execution_count": null,
      "outputs": []
    },
    {
      "cell_type": "code",
      "source": [
        "# 깃허브에 있는 csv 파일을 읽어와서 데이터프레임 df로 넣는다.\n",
        "df = pd.read_csv(\"https://raw.githubusercontent.com/ageron/handson-ml/master/datasets/housing/housing.csv\")"
      ],
      "metadata": {
        "id": "sepuSMxePF1W"
      },
      "execution_count": null,
      "outputs": []
    },
    {
      "cell_type": "code",
      "source": [
        "# RandomForestRegressor 객체 생성\n",
        "\n",
        "# 학습 수행"
      ],
      "metadata": {
        "id": "jfus85BIPgi9"
      },
      "execution_count": null,
      "outputs": []
    },
    {
      "cell_type": "code",
      "source": [
        "# 학습이 완료된 rfr 객체에서 테스트 데이터셋으로 예측 수행"
      ],
      "metadata": {
        "id": "3egeYUGJPkU6"
      },
      "execution_count": null,
      "outputs": []
    },
    {
      "cell_type": "code",
      "source": [
        "# 모델 성능 평가 – 테스트 데이터셋"
      ],
      "metadata": {
        "id": "nSj5cJq_PllO"
      },
      "execution_count": null,
      "outputs": []
    },
    {
      "cell_type": "code",
      "source": [
        "# 학습이 완료된 rfr 객체에서 학습 데이터셋으로 예측 수행\n",
        "\n",
        "\n",
        "# 모델 성능 평가 – 학습 데이터셋"
      ],
      "metadata": {
        "id": "Wh6JY__qPnDE"
      },
      "execution_count": null,
      "outputs": []
    }
  ]
}